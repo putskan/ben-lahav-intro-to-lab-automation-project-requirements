{
 "cells": [
  {
   "cell_type": "code",
   "execution_count": 1,
   "metadata": {},
   "outputs": [],
   "source": [
    "import time\n",
    "import sys\n",
    "from pymata4 import pymata4"
   ]
  },
  {
   "cell_type": "code",
   "execution_count": 2,
   "metadata": {},
   "outputs": [
    {
     "name": "stdout",
     "output_type": "stream",
     "text": [
      "pymata4:  Version 1.15\n",
      "\n",
      "Copyright (c) 2020 Alan Yorinks All Rights Reserved.\n",
      "\n",
      "Opening COM5...\n",
      "\n",
      "Waiting 4 seconds(arduino_wait) for Arduino devices to reset...\n",
      "Arduino compatible device found and connected to COM5\n",
      "\n",
      "Retrieving Arduino Firmware ID...\n",
      "Arduino Firmware ID: 1.2 FirmataExpress.ino\n",
      "\n",
      "Retrieving analog map...\n",
      "Auto-discovery complete. Found 20 Digital Pins and 6 Analog Pins\n",
      "\n",
      "\n"
     ]
    }
   ],
   "source": [
    "board = pymata4.Pymata4(com_port=\"COM5\")"
   ]
  },
  {
   "cell_type": "code",
   "execution_count": null,
   "metadata": {},
   "outputs": [
    {
     "name": "stdout",
     "output_type": "stream",
     "text": [
      "1\n",
      "2\n",
      "3\n",
      "4\n",
      "5\n",
      "6\n",
      "7\n",
      "8\n",
      "Hello\n",
      "9\n",
      "10\n",
      "11\n",
      "12\n",
      "13\n",
      "14\n",
      "15\n",
      "16\n",
      "17\n",
      "18\n",
      "19\n"
     ]
    }
   ],
   "source": [
    "import time\n",
    "import threading\n",
    "\n",
    "BUTTON_PIN = 6  # Define the pin where the button is connected\n",
    "LIGHT_TIME_SEC = 2\n",
    "LED_PIN = 4\n",
    "\n",
    "\n",
    "\n",
    "def turn_led_off():\n",
    "    board.digital_write(LED_PIN, 0)\n",
    "\n",
    "\n",
    "def button_callback(data):\n",
    "    if data[2] == 1:\n",
    "        board.digital_write(LED_PIN, 1)  # Turn on the LED\n",
    "        threading.Timer(LIGHT_TIME_SEC, turn_led_off).start()\n",
    "\n",
    "\n",
    "\n",
    "board.set_pin_mode_digital_output(LED_PIN)\n",
    "board.set_pin_mode_digital_input_pullup(BUTTON_PIN, callback=button_callback)\n",
    "\n",
    "\n",
    "i = 0\n",
    "while True:\n",
    "    i += 1\n",
    "    print(i)\n",
    "    time.sleep(1)\n"
   ]
  },
  {
   "cell_type": "code",
   "execution_count": null,
   "metadata": {},
   "outputs": [],
   "source": []
  }
 ],
 "metadata": {
  "kernelspec": {
   "display_name": "intro",
   "language": "python",
   "name": "python3"
  },
  "language_info": {
   "codemirror_mode": {
    "name": "ipython",
    "version": 3
   },
   "file_extension": ".py",
   "mimetype": "text/x-python",
   "name": "python",
   "nbconvert_exporter": "python",
   "pygments_lexer": "ipython3",
   "version": "3.11.13"
  }
 },
 "nbformat": 4,
 "nbformat_minor": 2
}
